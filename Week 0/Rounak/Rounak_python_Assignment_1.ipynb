{
  "nbformat": 4,
  "nbformat_minor": 0,
  "metadata": {
    "colab": {
      "provenance": []
    },
    "kernelspec": {
      "name": "python3",
      "display_name": "Python 3"
    },
    "language_info": {
      "name": "python"
    }
  },
  "cells": [
    {
      "cell_type": "markdown",
      "source": [
        "Solving these exercises will help make you a better programmer. Solve them in order, because each solution builds scaffolding, working code, and knowledge you can use on future problems. Read the directions carefully, and have fun!"
      ],
      "metadata": {
        "id": "rMNaoJBIn0eW"
      }
    },
    {
      "cell_type": "markdown",
      "source": [
        "1. Fork the repository and make a copy of this notebook and rename it as your name_Assignment1\n",
        "2. Generate a pull request as taught to you in the GitHub Session. The pull request message should also be yourname_Assignment1\n",
        "\n"
      ],
      "metadata": {
        "id": "dtdJ1pURn--h"
      }
    },
    {
      "cell_type": "markdown",
      "source": [
        "# Orientation\n",
        "1. This code notebook is composed of cells. Each cell is either text or Python code.\n",
        "2. To run a cell of code, click the \"play button\" icon to the left of the cell or click on the cell and press \"Shift+Enter\" on your keyboard. This will execute the Python code contained in the cell. Executing a cell that defines a variable is important before executing or authoring a cell that depends on that previously created variable assignment.\n",
        "3. Each assert line is both an example and a test that tests for the presence and functionality of the instructed exercise."
      ],
      "metadata": {
        "id": "Y1Lrvy8eonkb"
      }
    },
    {
      "cell_type": "markdown",
      "source": [
        "# Outline\n",
        "1. Each cell starts with a problem statement that describes the\n",
        "exercise to complete.\n",
        "2. Underneath each problem statement, learners will need to write code to produce an answer.\n",
        "3. The assert lines test to see that your code solves the problem appropriately.\n",
        "4. Do not alter or delete the assertion tests, since those are providing automated testing.\n",
        "5. Many exercises will rely on previous solutions to be correctly completed\n",
        "6. The print(\"Exercise is complete\") line will only run if your solution passes the assertion test(s)\n",
        "7. Be sure to create programmatic solutions that will work for all inputs:\n",
        "For example, calling the is_even(2) returns True, but your function should work for all even numbers, both positive and negative."
      ],
      "metadata": {
        "id": "egsBMww1o-Kw"
      }
    },
    {
      "cell_type": "code",
      "source": [
        "# Example problem:\n",
        "# Uncomment the line below and run this cell.\n",
        "# The hashtag \"#\" character in a line of Python code is the comment character.\n",
        "doing_python_right_now = True\n",
        "\n",
        "# The lines below will test your answer. If you see an error, then it means that your answer is incorrect or incomplete.\n",
        "assert doing_python_right_now == True, \"If you see a NameError, it means that the variable is not created and assigned a value. An 'Assertion Error' means that the value of the variable is incorrect.\"\n",
        "print(\"Exercise 0 is correct\") # This line will print if your solution passes the assertion above."
      ],
      "metadata": {
        "id": "wn8-c0_hppDZ",
        "colab": {
          "base_uri": "https://localhost:8080/"
        },
        "outputId": "c7fc78d4-eb5f-4c43-87e5-2eb059fe8140"
      },
      "execution_count": 5,
      "outputs": [
        {
          "output_type": "stream",
          "name": "stdout",
          "text": [
            "Exercise 0 is correct\n"
          ]
        }
      ]
    },
    {
      "cell_type": "code",
      "source": [
        "# Exercise 1\n",
        "# On the line below, create a variable named on_mars_right_now and assign it the boolean value of False\n",
        "on_mars_right_now=False\n",
        "\n",
        "assert on_mars_right_now == False, \"If you see a Name Error, be sure to create the variable and assign it a value.\"\n",
        "print(\"Exercise 1 is correct.\")"
      ],
      "metadata": {
        "id": "b-U50lKCp-bF",
        "colab": {
          "base_uri": "https://localhost:8080/"
        },
        "outputId": "05a22135-45ab-4b78-cc10-70a22c8f544a"
      },
      "execution_count": 6,
      "outputs": [
        {
          "output_type": "stream",
          "name": "stdout",
          "text": [
            "Exercise 1 is correct.\n"
          ]
        }
      ]
    },
    {
      "cell_type": "code",
      "source": [
        "# Exercise 2\n",
        "# Create a variable named fruits and assign it a list of fruits containing the following fruit names as strings:\n",
        "# mango, banana, guava, kiwi, and strawberry.\n",
        "fruits=[\"mango\",\"banana\",\"guava\",\"kiwi\",\"strawberry\"]\n",
        "\n",
        "assert fruits == [\"mango\", \"banana\", \"guava\", \"kiwi\", \"strawberry\"], \"If you see an Assert Error, ensure the variable contains all the strings in the provided order\"\n",
        "print(\"Exercise 2 is correct.\")"
      ],
      "metadata": {
        "id": "m_7w5CKtqDGY",
        "colab": {
          "base_uri": "https://localhost:8080/"
        },
        "outputId": "f9ddbc76-870b-453a-8335-ced7c314f26f"
      },
      "execution_count": 7,
      "outputs": [
        {
          "output_type": "stream",
          "name": "stdout",
          "text": [
            "Exercise 2 is correct.\n"
          ]
        }
      ]
    },
    {
      "cell_type": "code",
      "source": [
        "# Exercise 3\n",
        "# Create a variable named vegetables and assign it a list of fruits containing the following vegetable names as strings:\n",
        "# eggplant, broccoli, carrot, cauliflower, and zucchini\n",
        "vegetables = [\"eggplant\", \"broccoli\", \"carrot\", \"cauliflower\", \"zucchini\"]\n",
        "\n",
        "assert vegetables == [\"eggplant\", \"broccoli\", \"carrot\", \"cauliflower\", \"zucchini\"], \"Ensure the variable contains all the strings in the provided order\"\n",
        "print(\"Exercise 3 is correct.\")"
      ],
      "metadata": {
        "id": "13W-B4Z0qIQD",
        "colab": {
          "base_uri": "https://localhost:8080/"
        },
        "outputId": "4ac091d6-0b89-43cd-e6b7-eeef44998853"
      },
      "execution_count": 8,
      "outputs": [
        {
          "output_type": "stream",
          "name": "stdout",
          "text": [
            "Exercise 3 is correct.\n"
          ]
        }
      ]
    },
    {
      "cell_type": "markdown",
      "source": [
        "# List Operations\n",
        "Recommend finding and using built-in Python functionality whenever possible.\n",
        "Google any syntax that you do not know.\n"
      ],
      "metadata": {
        "id": "tfyYtxDxqUMY"
      }
    },
    {
      "cell_type": "code",
      "source": [
        "# Exercise 5\n",
        "# Given the following assigment of the list of fruits, add \"tomato\" to the end of the list.\n",
        "fruits = [\"mango\", \"banana\", \"guava\", \"kiwi\", \"strawberry\"]\n",
        "fruits.append(\"tomato\")\n",
        "\n",
        "assert fruits == [\"mango\", \"banana\", \"guava\", \"kiwi\", \"strawberry\", \"tomato\"], \"Ensure the variable contains all the strings in the right order\"\n",
        "print(\"Exercise 5 is correct\")"
      ],
      "metadata": {
        "id": "vHrZE8u-qLn0",
        "colab": {
          "base_uri": "https://localhost:8080/"
        },
        "outputId": "de033cb6-3a97-4a19-c010-e829130256de"
      },
      "execution_count": 9,
      "outputs": [
        {
          "output_type": "stream",
          "name": "stdout",
          "text": [
            "Exercise 5 is correct\n"
          ]
        }
      ]
    },
    {
      "cell_type": "code",
      "source": [
        "# Exercise 6\n",
        "# Given the list of numbers defined below, reverse the list of numbers that you created above.\n",
        "numbers = [1, 2, 3, 4, 5, 6, 7, 8, 9, 10]\n",
        "numbers.sort(reverse=True)\n",
        "assert numbers == [10, 9, 8, 7, 6, 5, 4, 3, 2, 1], \"Assert Error means that the answer is incorrect.\"\n",
        "print(\"Exercise 6 is correct.\")"
      ],
      "metadata": {
        "id": "2x4qFPSgqmDh",
        "colab": {
          "base_uri": "https://localhost:8080/"
        },
        "outputId": "9a477d80-1f77-4602-fd5e-599071df2702"
      },
      "execution_count": 10,
      "outputs": [
        {
          "output_type": "stream",
          "name": "stdout",
          "text": [
            "Exercise 6 is correct.\n"
          ]
        }
      ]
    },
    {
      "cell_type": "code",
      "source": [
        "# Exercise 7\n",
        "# Sort the vegetables in alphabetical order\n",
        "vegetables.append(\"tomato\")\n",
        "vegetables.sort()\n",
        "assert vegetables == ['broccoli', 'carrot', 'cauliflower', 'eggplant', 'tomato', 'zucchini']\n",
        "print(\"Exercise 7 is correct.\")"
      ],
      "metadata": {
        "id": "TlT-8Jmzqpb_",
        "colab": {
          "base_uri": "https://localhost:8080/"
        },
        "outputId": "932b8529-12bf-4389-89b1-908d04f64080"
      },
      "execution_count": 11,
      "outputs": [
        {
          "output_type": "stream",
          "name": "stdout",
          "text": [
            "Exercise 7 is correct.\n"
          ]
        }
      ]
    },
    {
      "cell_type": "code",
      "source": [
        "# Exercise 8\n",
        "# Write the code necessary to sort the fruits in reverse alphabetical order\n",
        "fruits.sort(reverse=True)\n",
        "assert fruits == ['tomato', 'strawberry', 'mango', 'kiwi', 'guava', 'banana']\n",
        "print(\"Exercise 8 is correct.\")"
      ],
      "metadata": {
        "id": "TZUKbNM1qulZ",
        "colab": {
          "base_uri": "https://localhost:8080/"
        },
        "outputId": "c3ac8c5f-c33b-40e5-cbd6-ed2bcc9c0511"
      },
      "execution_count": 12,
      "outputs": [
        {
          "output_type": "stream",
          "name": "stdout",
          "text": [
            "Exercise 8 is correct.\n"
          ]
        }
      ]
    },
    {
      "cell_type": "code",
      "source": [
        "# Exercise 9\n",
        "# Write the code necessary to produce a single list that holds all fruits then all vegetables in the order as they were sorted above.\n",
        "fruits_and_veggies=fruits+vegetables\n",
        "assert fruits_and_veggies == ['tomato', 'strawberry', 'mango', 'kiwi', 'guava', 'banana', 'broccoli', 'carrot', 'cauliflower', 'eggplant', 'tomato', 'zucchini']\n",
        "print(\"Exercise 9 is correct\")"
      ],
      "metadata": {
        "id": "MopnqOvpq451",
        "colab": {
          "base_uri": "https://localhost:8080/"
        },
        "outputId": "77802576-1d19-4420-ecd7-0b27ade0b40e"
      },
      "execution_count": 13,
      "outputs": [
        {
          "output_type": "stream",
          "name": "stdout",
          "text": [
            "Exercise 9 is correct\n"
          ]
        }
      ]
    },
    {
      "cell_type": "markdown",
      "source": [
        "# Functions\n",
        " Be sure to `return` values from your function definitions. The assert statements will call your function(s) for you.\n",
        "\n"
      ],
      "metadata": {
        "id": "oWLyvC9LrBCR"
      }
    },
    {
      "cell_type": "code",
      "source": [
        "# Run this cell in order to generate some numbers to use in our functions after this.\n",
        "import random\n",
        "\n",
        "positive_even_number = random.randrange(2, 101, 2)\n",
        "negative_even_number = random.randrange(-100, -1, 2)\n",
        "\n",
        "positive_odd_number = random.randrange(1, 100, 2)\n",
        "negative_odd_number = random.randrange(-101, 0, 2)\n",
        "print(\"We now have some random numbers available for future exercises.\")\n",
        "print(\"The random positive even number is\", positive_even_number)\n",
        "print(\"The random positive odd nubmer is\", positive_odd_number)\n",
        "print(\"The random negative even number\", negative_even_number)\n",
        "print(\"The random negative odd number\", negative_odd_number)"
      ],
      "metadata": {
        "colab": {
          "base_uri": "https://localhost:8080/"
        },
        "id": "mA1EpbOcsIIO",
        "outputId": "449950b1-90e9-4133-e88c-ccdf4caf27b6"
      },
      "execution_count": 14,
      "outputs": [
        {
          "output_type": "stream",
          "name": "stdout",
          "text": [
            "We now have some random numbers available for future exercises.\n",
            "The random positive even number is 20\n",
            "The random positive odd nubmer is 49\n",
            "The random negative even number -86\n",
            "The random negative odd number -11\n"
          ]
        }
      ]
    },
    {
      "cell_type": "code",
      "source": [
        "# Example function defintion:\n",
        "# Write a say_hello function that adds the string \"Hello, \" to the beginning and \"!\" to the end of any given input.\n",
        "def say_hello(name):\n",
        "    return \"Hello, \" + name + \"!\"\n",
        "\n",
        "assert say_hello(\"Jane\") == \"Hello, Jane!\", \"Double check the inputs and data types\"\n",
        "assert say_hello(\"Pat\") == \"Hello, Pat!\", \"Double check the inputs and data types\"\n",
        "assert say_hello(\"Astrud\") == \"Hello, Astrud!\", \"Double check the inputs and data types\"\n",
        "print(\"The example function definition ran appropriately\")"
      ],
      "metadata": {
        "colab": {
          "base_uri": "https://localhost:8080/"
        },
        "id": "HcbHpZ4trI-W",
        "outputId": "a2aa841a-4b50-46d9-fd9b-7f5d683aadf9"
      },
      "execution_count": 15,
      "outputs": [
        {
          "output_type": "stream",
          "name": "stdout",
          "text": [
            "The example function definition ran appropriately\n"
          ]
        }
      ]
    },
    {
      "cell_type": "code",
      "source": [
        "# Another example function definition:\n",
        "# This plus_two function takes in a variable and adds 2 to it.\n",
        "def plus_two(number):\n",
        "    return number + 2\n",
        "\n",
        "assert plus_two(3) == 5\n",
        "assert plus_two(0) == 2\n",
        "assert plus_two(-2) == 0\n",
        "print(\"The plus_two assertions executed appropriately... The second function definition example executed appropriately.\")"
      ],
      "metadata": {
        "colab": {
          "base_uri": "https://localhost:8080/"
        },
        "id": "BiIErtZbrQI7",
        "outputId": "52d77b60-f1db-468b-8d15-fbae8fca4f6f"
      },
      "execution_count": 16,
      "outputs": [
        {
          "output_type": "stream",
          "name": "stdout",
          "text": [
            "The plus_two assertions executed appropriately... The second function definition example executed appropriately.\n"
          ]
        }
      ]
    },
    {
      "cell_type": "code",
      "source": [
        "# Exercise 10\n",
        "# Write a function definition for a function named add_one that takes in a number and returns that number plus one.\n",
        "def add_one(number):\n",
        "  return number+1\n",
        "\n",
        "assert add_one(2) == 3, \"Ensure that the function is defined, named properly, and returns the correct value\"\n",
        "assert add_one(0) == 1, \"Zero plus one is one.\"\n",
        "assert add_one(positive_even_number) == positive_even_number + 1, \"Ensure that the function is defined, named properly, and returns the correct value\"\n",
        "assert add_one(negative_odd_number) == negative_odd_number + 1, \"Ensure that the function is defined, named properly, and returns the correct value\"\n",
        "print(\"Exercise 10 is correct.\")"
      ],
      "metadata": {
        "id": "EUGkV7nTrZbA",
        "colab": {
          "base_uri": "https://localhost:8080/"
        },
        "outputId": "8a377a68-deff-4a10-b5d4-0446199da632"
      },
      "execution_count": 17,
      "outputs": [
        {
          "output_type": "stream",
          "name": "stdout",
          "text": [
            "Exercise 10 is correct.\n"
          ]
        }
      ]
    },
    {
      "cell_type": "code",
      "source": [
        "# Exercise 11\n",
        "# Write a function definition named is_odd that takes in a number and returns True or False if that number is odd.\n",
        "def is_odd(num):\n",
        "  if num%2!=0:\n",
        "    return True\n",
        "  else:\n",
        "    return False\n",
        "assert is_odd(positive_odd_number) == True, \"Ensure that the function is defined, named properly, and returns the correct value\"\n",
        "assert is_odd(positive_even_number) == False, \"Ensure that the function is defined, named properly, and returns the correct value\"\n",
        "assert is_odd(negative_odd_number) == True, \"Ensure that the function is defined, named properly, and returns the correct value\"\n",
        "assert is_odd(negative_even_number) == False, \"Ensure that the function is defined, named properly, and returns the correct value\"\n",
        "print(\"Exercise 11 is correct.\")"
      ],
      "metadata": {
        "id": "iTQVLcarrcG3",
        "colab": {
          "base_uri": "https://localhost:8080/"
        },
        "outputId": "95431943-011b-47d5-eb8b-8ba0753fa760"
      },
      "execution_count": 18,
      "outputs": [
        {
          "output_type": "stream",
          "name": "stdout",
          "text": [
            "Exercise 11 is correct.\n"
          ]
        }
      ]
    },
    {
      "cell_type": "code",
      "source": [
        "# Exercise 12\n",
        "# Write a function definition named is_positive_even that takes in a number and returns True or False if the value is both greater than zero and even\n",
        "def is_positive_even(num):\n",
        "  if num>0 and num%2==0:\n",
        "    return True\n",
        "  else:\n",
        "    return False\n",
        "assert is_positive_even(4) == True, \"Double check your syntax and logic\"\n",
        "assert is_positive_even(positive_odd_number) == False, \"Double check your syntax and logic\"\n",
        "assert is_positive_even(positive_even_number) == True, \"Double check your syntax and logic\"\n",
        "assert is_positive_even(negative_odd_number) == False, \"Double check your syntax and logic\"\n",
        "assert is_positive_even(negative_even_number) == False, \"Double check your syntax and logic\"\n",
        "print(\"Exercise 12 is correct.\")"
      ],
      "metadata": {
        "id": "G6Ai1Dhrri5D",
        "colab": {
          "base_uri": "https://localhost:8080/"
        },
        "outputId": "852b9d91-59f0-4c70-c0be-88f516e5bbb4"
      },
      "execution_count": 19,
      "outputs": [
        {
          "output_type": "stream",
          "name": "stdout",
          "text": [
            "Exercise 12 is correct.\n"
          ]
        }
      ]
    },
    {
      "cell_type": "code",
      "source": [
        "# Exercise 13\n",
        "# Write a function definition named double that takes in a number and returns double the provided number.\n",
        "def double(num):\n",
        "  return num*2\n",
        "assert double(4) == 8\n",
        "assert double(5) == 10\n",
        "assert double(positive_odd_number) == positive_odd_number * 2\n",
        "assert double(positive_even_number) == positive_even_number * 2\n",
        "assert double(negative_odd_number) == negative_odd_number * 2\n",
        "assert double(negative_even_number) == negative_even_number * 2\n",
        "print(\"Exercise 13 is correct.\")"
      ],
      "metadata": {
        "id": "tm5TrqFArsjH",
        "colab": {
          "base_uri": "https://localhost:8080/"
        },
        "outputId": "feba72d9-2b01-49ef-d467-350ab801b659"
      },
      "execution_count": 20,
      "outputs": [
        {
          "output_type": "stream",
          "name": "stdout",
          "text": [
            "Exercise 13 is correct.\n"
          ]
        }
      ]
    },
    {
      "cell_type": "code",
      "source": [
        "# Exercise 14\n",
        "# Write a function definition named sum_of_squares that takes in two numbers, squares each number, then returns the sum of both squares.\n",
        "def sum_of_squares(n1,n2):\n",
        "  return n1*n1+n2*n2\n",
        "assert sum_of_squares(3, 2) == 13\n",
        "assert sum_of_squares(5, 2) == 29\n",
        "assert sum_of_squares(2, 4) == 20\n",
        "print(\"Exercise 14 is correct.\")"
      ],
      "metadata": {
        "id": "GSrhmkNwr6Qn",
        "colab": {
          "base_uri": "https://localhost:8080/"
        },
        "outputId": "ee7e7ce9-9218-4a83-ea12-d253f77d3642"
      },
      "execution_count": 21,
      "outputs": [
        {
          "output_type": "stream",
          "name": "stdout",
          "text": [
            "Exercise 14 is correct.\n"
          ]
        }
      ]
    },
    {
      "cell_type": "markdown",
      "source": [
        "# Functions with Strings\n",
        "I recommend you go through the two google colab files I have shared if you have difficulty in this."
      ],
      "metadata": {
        "id": "PaiPvt74srzZ"
      }
    },
    {
      "cell_type": "code",
      "source": [
        "# Exercise 15\n",
        "# Write a function definition named has_vowels that takes in value and returns True if the string contains any vowels.\n",
        "def has_vowels(s):\n",
        "  l=['a','A','e','E','i','I','o','O','u','U']\n",
        "  count=0\n",
        "  for i in s:\n",
        "    if i in l:\n",
        "      count+=1\n",
        "  if count!=0:\n",
        "    return True\n",
        "  else:\n",
        "    return False\n",
        "assert has_vowels(\"banana\") == True\n",
        "assert has_vowels(\"ubuntu\") == True\n",
        "assert has_vowels(\"QQQQ\") == False\n",
        "assert has_vowels(\"wyrd\") == False\n",
        "print(\"Exercise 15 is correct.\")"
      ],
      "metadata": {
        "id": "4auRgTnMsbet",
        "colab": {
          "base_uri": "https://localhost:8080/"
        },
        "outputId": "757f2561-300e-4006-da9f-45af8714bee8"
      },
      "execution_count": 22,
      "outputs": [
        {
          "output_type": "stream",
          "name": "stdout",
          "text": [
            "Exercise 15 is correct.\n"
          ]
        }
      ]
    },
    {
      "cell_type": "code",
      "source": [
        "# Exercise 16\n",
        "# Write a function definition named count_vowels that takes in value and returns the count of the nubmer of vowels in a sequence.\n",
        "def count_vowels(s):\n",
        "  l=['a','A','e','E','i','I','o','O','u','U']\n",
        "  count=0\n",
        "  for i in s:\n",
        "    if i in l:\n",
        "      count+=1\n",
        "  return count\n",
        "assert count_vowels(\"banana\") == 3\n",
        "assert count_vowels(\"ubuntu\") == 3\n",
        "assert count_vowels(\"mango\") == 2\n",
        "assert count_vowels(\"QQQQ\") == 0\n",
        "assert count_vowels(\"wyrd\") == 0\n",
        "print(\"Exercise 16 is correct.\")"
      ],
      "metadata": {
        "id": "QN-lkLYftB0q",
        "colab": {
          "base_uri": "https://localhost:8080/"
        },
        "outputId": "6f73c99a-616c-49b5-9294-05edf631eef4"
      },
      "execution_count": 23,
      "outputs": [
        {
          "output_type": "stream",
          "name": "stdout",
          "text": [
            "Exercise 16 is correct.\n"
          ]
        }
      ]
    },
    {
      "cell_type": "code",
      "source": [
        "# Exercise 17\n",
        "# Write a function definition named remove_vowels that takes in string and returns the string without any vowels\n",
        "def remove_vowels(s):\n",
        "  l=['a','A','e','E','i','I','o','O','u','U']\n",
        "  str=\"\"\n",
        "  for i in s:\n",
        "    if i not in l:\n",
        "      str+=i\n",
        "  return str\n",
        "\n",
        "assert remove_vowels(\"banana\") == \"bnn\"\n",
        "assert remove_vowels(\"ubuntu\") == \"bnt\"\n",
        "assert remove_vowels(\"mango\") == \"mng\"\n",
        "assert remove_vowels(\"QQQQ\") == \"QQQQ\"\n",
        "print(\"Exercise 17 is correct.\")"
      ],
      "metadata": {
        "id": "3Uswu498tGDe",
        "colab": {
          "base_uri": "https://localhost:8080/"
        },
        "outputId": "cc708f0f-e99f-4d99-cfa2-caf3b8aefee4"
      },
      "execution_count": 24,
      "outputs": [
        {
          "output_type": "stream",
          "name": "stdout",
          "text": [
            "Exercise 17 is correct.\n"
          ]
        }
      ]
    },
    {
      "cell_type": "code",
      "source": [
        "# Exercise 18\n",
        "# Write a function definition named starts_and_ends_with_vowel that takes in string and returns True if the string starts and ends with a vowel\n",
        "def starts_and_ends_with_vowel(s):\n",
        "  l=['a','A','e','E','i','I','o','O','u','U']\n",
        "  if s[0] in l and s[-1] in l:\n",
        "    return True\n",
        "  else:\n",
        "    return False\n",
        "\n",
        "assert starts_and_ends_with_vowel(\"ubuntu\") == True\n",
        "assert starts_and_ends_with_vowel(\"banana\") == False\n",
        "assert starts_and_ends_with_vowel(\"mango\") == False\n",
        "print(\"Exercise 18 is correct.\")"
      ],
      "metadata": {
        "id": "WabXu0XxtLCR",
        "colab": {
          "base_uri": "https://localhost:8080/"
        },
        "outputId": "79af7448-b223-471e-b727-247560184770"
      },
      "execution_count": 25,
      "outputs": [
        {
          "output_type": "stream",
          "name": "stdout",
          "text": [
            "Exercise 18 is correct.\n"
          ]
        }
      ]
    },
    {
      "cell_type": "markdown",
      "source": [
        "# Accessing List Elements\n"
      ],
      "metadata": {
        "id": "xCqaLNfCtcgG"
      }
    },
    {
      "cell_type": "code",
      "source": [
        "# Exercise 19\n",
        "# Write a function definition named first that takes in sequence and returns the first value of that sequence.\n",
        "def first(l):\n",
        "  return l[0]\n",
        "assert first(\"ubuntu\") == \"u\"\n",
        "assert first([1, 2, 3]) == 1\n",
        "assert first([\"python\", \"is\", \"awesome\"]) == \"python\"\n",
        "print(\"Exercise 19 is correct.\")"
      ],
      "metadata": {
        "id": "SA7pw41btcI-",
        "colab": {
          "base_uri": "https://localhost:8080/"
        },
        "outputId": "b8dfd57e-37e5-47d2-c21c-a38db14a4f4e"
      },
      "execution_count": 26,
      "outputs": [
        {
          "output_type": "stream",
          "name": "stdout",
          "text": [
            "Exercise 19 is correct.\n"
          ]
        }
      ]
    },
    {
      "cell_type": "code",
      "source": [
        "# Exercise 20\n",
        "# Write a function definition named last that takes in sequence and returns the last value of that sequence.\n",
        "def last(l):\n",
        "  return l[-1]\n",
        "assert last(\"ubuntu\") == \"u\"\n",
        "assert last([1, 2, 3, 4]) == 4\n",
        "assert last([\"python\", \"is\", \"awesome\"]) == \"awesome\"\n",
        "assert last([\"kiwi\", \"mango\", \"guava\"]) == \"guava\"\n",
        "print(\"Exercise 20 is correct.\")"
      ],
      "metadata": {
        "id": "2LUxN5jitowc",
        "colab": {
          "base_uri": "https://localhost:8080/"
        },
        "outputId": "97a49759-25c9-4701-eeb2-8a2836c83982"
      },
      "execution_count": 27,
      "outputs": [
        {
          "output_type": "stream",
          "name": "stdout",
          "text": [
            "Exercise 20 is correct.\n"
          ]
        }
      ]
    },
    {
      "cell_type": "code",
      "source": [
        "# Exercise 21\n",
        "# Write a function definition named first_and_second that takes in sequence and returns the first and second value of that sequence as a list\n",
        "def first_and_second(l):\n",
        "  return l[0:2]\n",
        "assert first_and_second([1, 2, 3, 4]) == [1, 2]\n",
        "assert first_and_second([\"python\", \"is\", \"awesome\"]) == [\"python\", \"is\"]\n",
        "assert first_and_second([\"strawberry\", \"kiwi\", \"mango\", \"guava\"]) == [\"strawberry\", \"kiwi\"]\n",
        "print(\"Exercise 21 is correct.\")"
      ],
      "metadata": {
        "id": "gdY9_AJCttvJ",
        "colab": {
          "base_uri": "https://localhost:8080/"
        },
        "outputId": "86f5abce-fc4c-44e7-d42a-59b275dddfb5"
      },
      "execution_count": 28,
      "outputs": [
        {
          "output_type": "stream",
          "name": "stdout",
          "text": [
            "Exercise 21 is correct.\n"
          ]
        }
      ]
    },
    {
      "cell_type": "code",
      "source": [
        "# Exercise 22\n",
        "# Write a function definition named first_to_last that takes in sequence and returns the sequence with the first value moved to the end of the sequence.\n",
        "def first_to_last(l):\n",
        "  l1=l[1:]\n",
        "  l1.append(l[0])\n",
        "  return l1\n",
        "assert first_to_last([1, 2, 3, 4]) == [2, 3, 4, 1]\n",
        "assert first_to_last([\"python\", \"is\", \"awesome\"]) == [\"is\", \"awesome\", \"python\"]\n",
        "assert first_to_last([\"strawberry\", \"kiwi\", \"mango\", \"guava\"]) == [\"kiwi\", \"mango\", \"guava\", \"strawberry\"]\n",
        "print(\"Exercise 22 is correct.\")"
      ],
      "metadata": {
        "id": "cDPGhuedt0OF",
        "colab": {
          "base_uri": "https://localhost:8080/"
        },
        "outputId": "bb3145da-dfc3-46e1-93f7-f1e125250bd3"
      },
      "execution_count": 29,
      "outputs": [
        {
          "output_type": "stream",
          "name": "stdout",
          "text": [
            "Exercise 22 is correct.\n"
          ]
        }
      ]
    },
    {
      "cell_type": "markdown",
      "source": [
        "# Functions to Describe Data\n"
      ],
      "metadata": {
        "id": "8LRyayWlt6ZN"
      }
    },
    {
      "cell_type": "code",
      "source": [
        "# Exercise 23\n",
        "# Write a function definition named sum_all that takes in sequence of numbers and returns all the numbers added together.\n",
        "def sum_all(l):\n",
        "  sum=0\n",
        "  for i in l:\n",
        "    sum+=i\n",
        "  return sum\n",
        "assert sum_all([1, 2, 3, 4]) == 10\n",
        "assert sum_all([3, 3, 3]) == 9\n",
        "assert sum_all([0, 5, 6]) == 11\n",
        "print(\"Exercise 23 is correct.\")"
      ],
      "metadata": {
        "id": "m2sAHpw-t58l",
        "colab": {
          "base_uri": "https://localhost:8080/"
        },
        "outputId": "c33fecba-8762-4898-e138-2e52e3a65787"
      },
      "execution_count": 30,
      "outputs": [
        {
          "output_type": "stream",
          "name": "stdout",
          "text": [
            "Exercise 23 is correct.\n"
          ]
        }
      ]
    },
    {
      "cell_type": "code",
      "source": [
        "# Exercise 24\n",
        "# Write a function definition named mean that takes in sequence of numbers and returns the average value\n",
        "def mean(l):\n",
        "  sum=0\n",
        "  for i in l:\n",
        "    sum+=i\n",
        "  return sum/len(l)\n",
        "assert mean([1, 2, 3, 4, 5]) == 3.0\n",
        "assert mean([1, 2, 3]) == 2.0\n",
        "assert mean([1, 5, 6]) == 4.0\n",
        "assert mean([1, 2, 5, 6]) == 3.5\n",
        "print(\"Exercise 24 is correct.\")"
      ],
      "metadata": {
        "id": "Mt2EeKsfuEIW",
        "colab": {
          "base_uri": "https://localhost:8080/"
        },
        "outputId": "a0a1089a-5365-4f60-f58a-f427dca07765"
      },
      "execution_count": 31,
      "outputs": [
        {
          "output_type": "stream",
          "name": "stdout",
          "text": [
            "Exercise 24 is correct.\n"
          ]
        }
      ]
    },
    {
      "cell_type": "code",
      "source": [
        "# Exercise 24\n",
        "# Write a function definition named mode that takes in sequence of numbers and returns the most commonly occuring value\n",
        "def mode(l):\n",
        "  t=max(set(l),key=l.count)\n",
        "  return t\n",
        "assert mode([1, 2, 2, 3, 4]) == 2\n",
        "assert mode([1, 1, 2, 3]) == 1\n",
        "assert mode([2, 2, 3, 3, 3]) == 3\n",
        "print(\"Exercise 24 is correct.\")"
      ],
      "metadata": {
        "id": "HgLdQbNTuMqz",
        "colab": {
          "base_uri": "https://localhost:8080/"
        },
        "outputId": "c194b4c2-b971-4c87-969e-146f7e7d2c1d"
      },
      "execution_count": 32,
      "outputs": [
        {
          "output_type": "stream",
          "name": "stdout",
          "text": [
            "Exercise 24 is correct.\n"
          ]
        }
      ]
    },
    {
      "cell_type": "markdown",
      "source": [
        "# Applying Functions to Lists\n"
      ],
      "metadata": {
        "id": "F_MVcTfIuSiy"
      }
    },
    {
      "cell_type": "code",
      "source": [
        "# Exercise 25\n",
        "# Write a function definition named get_highest_number that takes in sequence of numbers and returns the largest number.\n",
        "def get_highest_number(l):\n",
        "  highest=l[0]\n",
        "  for i in range(len(l)):\n",
        "    if l[i]>l[0]:\n",
        "      highest=l[i]\n",
        "  return highest\n",
        "assert get_highest_number([1, 2, 3]) == 3\n",
        "assert get_highest_number([-5, -4, -3, -2, -1, 1, 2, 3, 4, 5]) == 5\n",
        "assert get_highest_number([-5, -3, 1]) == 1\n",
        "print(\"Exercise 25 is correct.\")"
      ],
      "metadata": {
        "id": "KAyrqevouXow",
        "colab": {
          "base_uri": "https://localhost:8080/"
        },
        "outputId": "09371203-54f5-4763-b492-7dbbfab20392"
      },
      "execution_count": 33,
      "outputs": [
        {
          "output_type": "stream",
          "name": "stdout",
          "text": [
            "Exercise 25 is correct.\n"
          ]
        }
      ]
    },
    {
      "cell_type": "code",
      "source": [
        "# Exercise 26\n",
        "# Write a function definition named only_odd_numbers that takes in sequence of numbers and returns the odd numbers in a list.\n",
        "def only_odd_numbers(l):\n",
        "  l1=[]\n",
        "  for i in l:\n",
        "    if i%2!=0:\n",
        "      l1.append(i)\n",
        "  return l1\n",
        "assert only_odd_numbers([1, 2, 3]) == [1, 3]\n",
        "assert only_odd_numbers([-5, -4, -3, -2, -1, 1, 2, 3, 4, 5]) == [-5, -3, -1, 1, 3, 5]\n",
        "assert only_odd_numbers([-4, -3, 1]) == [-3, 1]\n",
        "assert only_odd_numbers([2, 2, 2, 2, 2]) == []\n",
        "print(\"Exercise 26 is correct.\")"
      ],
      "metadata": {
        "id": "517qI-KmucIa",
        "colab": {
          "base_uri": "https://localhost:8080/"
        },
        "outputId": "36e4fda9-629e-4a29-b01f-8ee7f71766d4"
      },
      "execution_count": 34,
      "outputs": [
        {
          "output_type": "stream",
          "name": "stdout",
          "text": [
            "Exercise 26 is correct.\n"
          ]
        }
      ]
    },
    {
      "cell_type": "code",
      "source": [
        "# Exercise 27\n",
        "# Write a function definition named count_evens that takes in sequence of numbers and returns the number of even numbers\n",
        "def count_evens(l):\n",
        "  count=0\n",
        "  for i in l:\n",
        "    if i%2==0:\n",
        "      count+=1\n",
        "  return count\n",
        "assert count_evens([1, 2, 3]) == 1\n",
        "assert count_evens([2, 5, 6]) == 2\n",
        "assert count_evens([3, 3, 3]) == 0\n",
        "assert count_evens([5, 6, 7, 8] ) == 2\n",
        "print(\"Exercise 27 is correct.\")"
      ],
      "metadata": {
        "id": "uCpfD1NnugoD",
        "colab": {
          "base_uri": "https://localhost:8080/"
        },
        "outputId": "139c804c-c808-420d-b101-a3b5c4e1b629"
      },
      "execution_count": 35,
      "outputs": [
        {
          "output_type": "stream",
          "name": "stdout",
          "text": [
            "Exercise 27 is correct.\n"
          ]
        }
      ]
    },
    {
      "cell_type": "code",
      "source": [
        "# Exercise 28\n",
        "# Write a function definition named shortest_string that takes in a list of strings and returns the shortest string in the list.\n",
        "def shortest_string(l):\n",
        "  shortest=l[0]\n",
        "  for i in range(len(l)):\n",
        "    if len(l[i])<len(l[0]):\n",
        "      shortest=l[i]\n",
        "  return shortest\n",
        "assert shortest_string([\"kiwi\", \"mango\", \"strawberry\"]) == \"kiwi\"\n",
        "assert shortest_string([\"hello\", \"everybody\"]) == \"hello\"\n",
        "assert shortest_string([\"mary\", \"had\", \"a\", \"little\", \"lamb\"]) == \"a\"\n",
        "print(\"Exercise 28 is correct.\")"
      ],
      "metadata": {
        "id": "RxqDOb7Wum-C",
        "colab": {
          "base_uri": "https://localhost:8080/"
        },
        "outputId": "03126e34-2182-4f67-988f-4384bcaf5cab"
      },
      "execution_count": 36,
      "outputs": [
        {
          "output_type": "stream",
          "name": "stdout",
          "text": [
            "Exercise 28 is correct.\n"
          ]
        }
      ]
    },
    {
      "cell_type": "markdown",
      "source": [
        "# Working with Sets\n",
        "Take a look at the `set` function in Python, the `set` data type, and built-in `set` methods."
      ],
      "metadata": {
        "id": "D9arvRTSu482"
      }
    },
    {
      "cell_type": "code",
      "source": [
        "# Example set function usage\n",
        "print(set(\"kiwi\"))\n",
        "print(set([1, 2, 2, 3, 3, 3, 4, 4, 4, 4]))"
      ],
      "metadata": {
        "colab": {
          "base_uri": "https://localhost:8080/"
        },
        "id": "4XjNxjkFu4b-",
        "outputId": "e4cdcf8b-1585-4329-f1c7-76ff909b0999"
      },
      "execution_count": 37,
      "outputs": [
        {
          "output_type": "stream",
          "name": "stdout",
          "text": [
            "{'i', 'k', 'w'}\n",
            "{1, 2, 3, 4}\n"
          ]
        }
      ]
    },
    {
      "cell_type": "code",
      "source": [
        "# Exercise 29\n",
        "# Write a function definition named get_unique_values that takes in a list and returns a set with only the unique values from that list.\n",
        "def get_unique_values(l):\n",
        "  return set(l)\n",
        "assert get_unique_values([\"ant\", \"ant\", \"mosquito\", \"mosquito\", \"ladybug\"]) == {\"ant\", \"mosquito\", \"ladybug\"}\n",
        "assert get_unique_values([\"b\", \"a\", \"n\", \"a\", \"n\", \"a\", \"s\"]) == {\"b\", \"a\", \"n\", \"s\"}\n",
        "assert get_unique_values([\"mary\", \"had\", \"a\", \"little\", \"lamb\", \"little\", \"lamb\", \"little\", \"lamb\"]) == {\"mary\", \"had\", \"a\", \"little\", \"lamb\"}\n",
        "print(\"Exercise 29 is correct.\")"
      ],
      "metadata": {
        "id": "D3N-ZOg6vTpM",
        "colab": {
          "base_uri": "https://localhost:8080/"
        },
        "outputId": "409c91b2-e139-41ab-e6ee-1a2babe17393"
      },
      "execution_count": 38,
      "outputs": [
        {
          "output_type": "stream",
          "name": "stdout",
          "text": [
            "Exercise 29 is correct.\n"
          ]
        }
      ]
    },
    {
      "cell_type": "code",
      "source": [
        "# Exercise 30\n",
        "# Write a function definition named get_values_in_common that takes two lists and returns a single set with the values that each list has in common\n",
        "def get_values_in_common(l1,l2):\n",
        "  s1=set(l1)\n",
        "  s2=set(l2)\n",
        "  return s1.intersection(s2)\n",
        "assert get_values_in_common([5, 1, 2, 3], [3, 4, 5, 5]) == {3, 5}\n",
        "assert get_values_in_common([1, 2], [2, 2, 3]) == {2}\n",
        "assert get_values_in_common([\"tomato\", \"mango\", \"kiwi\"], [\"eggplant\", \"tomato\", \"broccoli\"]) == {\"tomato\"}\n",
        "print(\"Exercise 30 is correct.\")"
      ],
      "metadata": {
        "id": "myQNUXapvXee",
        "colab": {
          "base_uri": "https://localhost:8080/"
        },
        "outputId": "8a533b57-a477-4de2-dddb-c4f2ceba026c"
      },
      "execution_count": 39,
      "outputs": [
        {
          "output_type": "stream",
          "name": "stdout",
          "text": [
            "Exercise 30 is correct.\n"
          ]
        }
      ]
    }
  ]
}