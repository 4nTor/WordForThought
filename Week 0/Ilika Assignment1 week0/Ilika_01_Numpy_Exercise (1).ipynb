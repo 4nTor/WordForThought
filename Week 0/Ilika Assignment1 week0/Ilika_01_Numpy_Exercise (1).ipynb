{
  "cells": [
    {
      "cell_type": "markdown",
      "metadata": {
        "id": "HfJB9JnS9xlK"
      },
      "source": [
        "# NumPy Exercises\n",
        "\n",
        "Now that we've learned about NumPy let's test your knowledge. We'll start off with a few simple tasks, and then you'll be asked some more complicated questions."
      ]
    },
    {
      "cell_type": "markdown",
      "metadata": {
        "id": "u9POEVg29xlM"
      },
      "source": [
        "#### Import NumPy as np"
      ]
    },
    {
      "cell_type": "code",
      "execution_count": 1,
      "metadata": {
        "id": "yyS-PuO_9xlM"
      },
      "outputs": [],
      "source": [
        "import numpy as np"
      ]
    },
    {
      "cell_type": "markdown",
      "metadata": {
        "id": "ehlpKUPc9xlM"
      },
      "source": [
        "#### Create an array of 10 zeros"
      ]
    },
    {
      "cell_type": "code",
      "execution_count": 2,
      "metadata": {
        "id": "aEQkK-Dw9xlN"
      },
      "outputs": [],
      "source": [
        "arr = np.array([0, 0, 0, 0, 0, 0, 0, 0, 0])"
      ]
    },
    {
      "cell_type": "markdown",
      "metadata": {
        "id": "6QHp05Ei9xlN"
      },
      "source": [
        "#### Create an array of 10 ones"
      ]
    },
    {
      "cell_type": "code",
      "execution_count": 3,
      "metadata": {
        "scrolled": true,
        "id": "ebe9xrC29xlN"
      },
      "outputs": [],
      "source": [
        "arr_ones = np.ones(10)\n"
      ]
    },
    {
      "cell_type": "markdown",
      "metadata": {
        "id": "ziS-l3xp9xlO"
      },
      "source": [
        "#### Create an array of 10 fives"
      ]
    },
    {
      "cell_type": "code",
      "execution_count": 4,
      "metadata": {
        "id": "fFC7bqLM9xlO"
      },
      "outputs": [],
      "source": [
        "arr_fives = np.ones(10) * 5\n"
      ]
    },
    {
      "cell_type": "markdown",
      "metadata": {
        "id": "kBugMXlC9xlO"
      },
      "source": [
        "#### Create an array of the integers from 10 to 50"
      ]
    },
    {
      "cell_type": "code",
      "execution_count": 5,
      "metadata": {
        "id": "JsO6qS9R9xlO"
      },
      "outputs": [],
      "source": [
        "arr_10_to_50 = np.arange(10, 51)\n"
      ]
    },
    {
      "cell_type": "markdown",
      "metadata": {
        "id": "dMw4V2L79xlO"
      },
      "source": [
        "#### Create an array of all the even integers from 10 to 50"
      ]
    },
    {
      "cell_type": "code",
      "execution_count": 6,
      "metadata": {
        "id": "4lK-5SQV9xlO"
      },
      "outputs": [],
      "source": [
        "arr_even = np.arange(10, 51, 2)\n"
      ]
    },
    {
      "cell_type": "markdown",
      "metadata": {
        "id": "g__F0rB39xlP"
      },
      "source": [
        "#### Create a 3x3 matrix with values ranging from 0 to 8"
      ]
    },
    {
      "cell_type": "code",
      "execution_count": 7,
      "metadata": {
        "id": "MmVXCn0K9xlP"
      },
      "outputs": [],
      "source": [
        "matrix_3x3 = np.arange(9).reshape(3, 3)\n"
      ]
    },
    {
      "cell_type": "markdown",
      "metadata": {
        "id": "4YfT0aLo9xlP"
      },
      "source": [
        "#### Create a 3x3 identity matrix"
      ]
    },
    {
      "cell_type": "code",
      "execution_count": 8,
      "metadata": {
        "id": "UHa42UpQ9xlP"
      },
      "outputs": [],
      "source": [
        "identity_matrix = np.eye(3)\n"
      ]
    },
    {
      "cell_type": "markdown",
      "metadata": {
        "id": "bfwDbjhI9xlP"
      },
      "source": [
        "#### Use NumPy to generate a random number between 0 and 1"
      ]
    },
    {
      "cell_type": "code",
      "execution_count": 9,
      "metadata": {
        "id": "Z0OroZxW9xlP"
      },
      "outputs": [],
      "source": [
        "random_number = np.random.rand()\n"
      ]
    },
    {
      "cell_type": "markdown",
      "metadata": {
        "id": "rLW0Jjzp9xlP"
      },
      "source": [
        "#### Use NumPy to generate an array of 25 random numbers sampled from a standard normal distribution"
      ]
    },
    {
      "cell_type": "code",
      "execution_count": 10,
      "metadata": {
        "id": "szluy14n9xlP"
      },
      "outputs": [],
      "source": [
        "random_array = np.random.randn(25)\n"
      ]
    },
    {
      "cell_type": "markdown",
      "metadata": {
        "id": "_GhI8LYn9xlP"
      },
      "source": [
        "#### Create the following matrix:"
      ]
    },
    {
      "cell_type": "code",
      "execution_count": 11,
      "metadata": {
        "id": "wS1ZBddV9xlP"
      },
      "outputs": [],
      "source": [
        "array = np.arange(1, 101).reshape(10, 10) / 100\n"
      ]
    },
    {
      "cell_type": "markdown",
      "metadata": {
        "id": "3OqA-QtL9xlQ"
      },
      "source": [
        "#### Create an array of 20 linearly spaced points between 0 and 1:"
      ]
    },
    {
      "cell_type": "code",
      "execution_count": 12,
      "metadata": {
        "id": "FNXTugQ29xlQ"
      },
      "outputs": [],
      "source": [
        "array = np.linspace(0, 1, 20)\n"
      ]
    },
    {
      "cell_type": "markdown",
      "metadata": {
        "id": "elx0EaxE9xlQ"
      },
      "source": [
        "## Numpy Indexing and Selection\n",
        "\n",
        "Now you will be given a few matrices, and be asked to replicate the resulting matrix outputs:"
      ]
    },
    {
      "cell_type": "markdown",
      "metadata": {
        "id": "2Tbm9kVf9xlQ"
      },
      "source": []
    },
    {
      "cell_type": "code",
      "execution_count": 13,
      "metadata": {
        "id": "Ft8P8e249xlQ"
      },
      "outputs": [],
      "source": [
        "array = np.arange(1, 26).reshape(5, 5)\n"
      ]
    },
    {
      "cell_type": "code",
      "execution_count": 14,
      "metadata": {
        "id": "WrcFkpGL9xlQ"
      },
      "outputs": [],
      "source": [
        "sub_matrix = array[2:, 1:]\n",
        "\n"
      ]
    },
    {
      "cell_type": "code",
      "execution_count": 16,
      "metadata": {
        "id": "rnUSntEa9xlQ"
      },
      "outputs": [],
      "source": [
        "value_20 = array[3, 4]\n",
        "\n"
      ]
    },
    {
      "cell_type": "code",
      "execution_count": 17,
      "metadata": {
        "id": "3DMBC_wp9xlQ"
      },
      "outputs": [],
      "source": [
        "result = array[:3, 1:2]\n"
      ]
    },
    {
      "cell_type": "code",
      "execution_count": 18,
      "metadata": {
        "id": "pGjD4HUK9xlQ"
      },
      "outputs": [],
      "source": [
        "last = array[-1, :]\n",
        "\n"
      ]
    },
    {
      "cell_type": "code",
      "execution_count": 19,
      "metadata": {
        "id": "dqsdpxUo9xlR"
      },
      "outputs": [],
      "source": [
        "new = array[-2:, :]\n"
      ]
    },
    {
      "cell_type": "markdown",
      "metadata": {
        "collapsed": true,
        "id": "6vtHuVJU9xlf"
      },
      "source": [
        "# Great Job!"
      ]
    }
  ],
  "metadata": {
    "kernelspec": {
      "display_name": "Python 3 (ipykernel)",
      "language": "python",
      "name": "python3"
    },
    "language_info": {
      "codemirror_mode": {
        "name": "ipython",
        "version": 3
      },
      "file_extension": ".py",
      "mimetype": "text/x-python",
      "name": "python",
      "nbconvert_exporter": "python",
      "pygments_lexer": "ipython3",
      "version": "3.9.12"
    },
    "colab": {
      "provenance": []
    }
  },
  "nbformat": 4,
  "nbformat_minor": 0
}