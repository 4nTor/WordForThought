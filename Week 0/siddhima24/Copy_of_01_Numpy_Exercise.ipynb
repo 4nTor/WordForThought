{
  "cells": [
    {
      "cell_type": "markdown",
      "metadata": {
        "id": "HfJB9JnS9xlK"
      },
      "source": [
        "# NumPy Exercises\n",
        "\n",
        "Now that we've learned about NumPy let's test your knowledge. We'll start off with a few simple tasks, and then you'll be asked some more complicated questions."
      ]
    },
    {
      "cell_type": "markdown",
      "metadata": {
        "id": "u9POEVg29xlM"
      },
      "source": [
        "#### Import NumPy as np"
      ]
    },
    {
      "cell_type": "code",
      "execution_count": 1,
      "metadata": {
        "id": "yyS-PuO_9xlM"
      },
      "outputs": [],
      "source": [
        "import numpy as np"
      ]
    },
    {
      "cell_type": "markdown",
      "metadata": {
        "id": "ehlpKUPc9xlM"
      },
      "source": [
        "#### Create an array of 10 zeros"
      ]
    },
    {
      "cell_type": "code",
      "execution_count": 2,
      "metadata": {
        "id": "aEQkK-Dw9xlN"
      },
      "outputs": [],
      "source": [
        "arr = np.array([0, 0, 0, 0, 0, 0, 0, 0, 0])"
      ]
    },
    {
      "cell_type": "markdown",
      "metadata": {
        "id": "6QHp05Ei9xlN"
      },
      "source": [
        "#### Create an array of 10 ones"
      ]
    },
    {
      "cell_type": "code",
      "execution_count": 3,
      "metadata": {
        "scrolled": true,
        "id": "ebe9xrC29xlN"
      },
      "outputs": [],
      "source": [
        "arr2=np.array([1,1,1,1,1,1,1,1,1,1])"
      ]
    },
    {
      "cell_type": "markdown",
      "metadata": {
        "id": "ziS-l3xp9xlO"
      },
      "source": [
        "#### Create an array of 10 fives"
      ]
    },
    {
      "cell_type": "code",
      "execution_count": 4,
      "metadata": {
        "id": "fFC7bqLM9xlO"
      },
      "outputs": [],
      "source": [
        "arr3=np.array([5,5,5,5,5,5,5,5,5,5])"
      ]
    },
    {
      "cell_type": "markdown",
      "metadata": {
        "id": "kBugMXlC9xlO"
      },
      "source": [
        "#### Create an array of the integers from 10 to 50"
      ]
    },
    {
      "cell_type": "code",
      "execution_count": 5,
      "metadata": {
        "id": "JsO6qS9R9xlO"
      },
      "outputs": [],
      "source": [
        "x=10\n",
        "l=[]\n",
        "while x<=50:\n",
        "  l.append(x)\n",
        "  x+=1\n",
        "arr4=np.array(l)\n"
      ]
    },
    {
      "cell_type": "markdown",
      "metadata": {
        "id": "dMw4V2L79xlO"
      },
      "source": [
        "#### Create an array of all the even integers from 10 to 50"
      ]
    },
    {
      "cell_type": "code",
      "execution_count": 6,
      "metadata": {
        "id": "4lK-5SQV9xlO"
      },
      "outputs": [],
      "source": [
        "x=10\n",
        "l=[]\n",
        "while x<=50:\n",
        "  l.append(x)\n",
        "  x+=2\n",
        "arr5=np.array(l)\n"
      ]
    },
    {
      "cell_type": "markdown",
      "metadata": {
        "id": "g__F0rB39xlP"
      },
      "source": [
        "#### Create a 3x3 matrix with values ranging from 0 to 8"
      ]
    },
    {
      "cell_type": "code",
      "execution_count": 10,
      "metadata": {
        "id": "MmVXCn0K9xlP"
      },
      "outputs": [],
      "source": [
        "n=0\n",
        "x=1\n",
        "y=1\n",
        "l=[]\n",
        "while(x<=3):\n",
        "  while(y<=3):\n",
        "    l.append(n)\n",
        "    n+=1\n",
        "    y+=1\n",
        "  x+=1\n",
        "  y=1\n",
        "ar=np.array(l)\n",
        "newar=ar.reshape(3,3)\n"
      ]
    },
    {
      "cell_type": "markdown",
      "metadata": {
        "id": "4YfT0aLo9xlP"
      },
      "source": [
        "#### Create a 3x3 identity matrix"
      ]
    },
    {
      "cell_type": "code",
      "execution_count": 11,
      "metadata": {
        "id": "UHa42UpQ9xlP"
      },
      "outputs": [],
      "source": [
        "x=1\n",
        "y=1\n",
        "l=[]\n",
        "while(x<=3):\n",
        "  while(y<=3):\n",
        "    if(y==x):\n",
        "      l.append(1)\n",
        "    else:\n",
        "      l.append(0)\n",
        "    y+=1\n",
        "  x+=1\n",
        "  y=1\n",
        "ar=np.array(l)\n",
        "newar=ar.reshape(3,3)\n"
      ]
    },
    {
      "cell_type": "markdown",
      "metadata": {
        "id": "bfwDbjhI9xlP"
      },
      "source": [
        "#### Use NumPy to generate a random number between 0 and 1"
      ]
    },
    {
      "cell_type": "code",
      "execution_count": 12,
      "metadata": {
        "id": "Z0OroZxW9xlP"
      },
      "outputs": [],
      "source": [
        "from numpy import random\n",
        "x=random.rand()"
      ]
    },
    {
      "cell_type": "markdown",
      "metadata": {
        "id": "rLW0Jjzp9xlP"
      },
      "source": [
        "#### Use NumPy to generate an array of 25 random numbers sampled from a standard normal distribution"
      ]
    },
    {
      "cell_type": "code",
      "execution_count": 13,
      "metadata": {
        "id": "szluy14n9xlP"
      },
      "outputs": [],
      "source": [
        "y=random.normal(size=25)"
      ]
    },
    {
      "cell_type": "markdown",
      "metadata": {
        "id": "_GhI8LYn9xlP"
      },
      "source": [
        "#### Create the following matrix:"
      ]
    },
    {
      "cell_type": "code",
      "execution_count": 14,
      "metadata": {
        "id": "wS1ZBddV9xlP"
      },
      "outputs": [],
      "source": [
        "x=1\n",
        "y=1\n",
        "n=0.01\n",
        "l=[]\n",
        "while(x<=10):\n",
        "  while(y<=10):\n",
        "      l.append(n)\n",
        "      n+=0.01\n",
        "      y+=1\n",
        "  x+=1\n",
        "  y=1\n",
        "ar=np.array(l)\n",
        "newar=ar.reshape(10,10)\n"
      ]
    },
    {
      "cell_type": "markdown",
      "metadata": {
        "id": "3OqA-QtL9xlQ"
      },
      "source": [
        "#### Create an array of 20 linearly spaced points between 0 and 1:"
      ]
    },
    {
      "cell_type": "code",
      "execution_count": 15,
      "metadata": {
        "id": "FNXTugQ29xlQ"
      },
      "outputs": [],
      "source": [
        "y=1\n",
        "n=0\n",
        "l=[]\n",
        "x=1/20\n",
        "while(y<=20):\n",
        "      l.append(n)\n",
        "      n+=x\n",
        "      y+=1\n",
        "ar=np.array(l)"
      ]
    },
    {
      "cell_type": "markdown",
      "metadata": {
        "id": "elx0EaxE9xlQ"
      },
      "source": [
        "## Numpy Indexing and Selection\n",
        "\n",
        "Now you will be given a few matrices, and be asked to replicate the resulting matrix outputs:"
      ]
    },
    {
      "cell_type": "markdown",
      "metadata": {
        "id": "2Tbm9kVf9xlQ"
      },
      "source": []
    },
    {
      "cell_type": "code",
      "execution_count": 17,
      "metadata": {
        "id": "Ft8P8e249xlQ"
      },
      "outputs": [],
      "source": [
        "x=1\n",
        "y=1\n",
        "n=1\n",
        "l=[]\n",
        "while(x<=5):\n",
        "  while(y<=5):\n",
        "      l.append(n)\n",
        "      n+=1\n",
        "      y+=1\n",
        "  x+=1\n",
        "  y=1\n",
        "ar=np.array(l)\n",
        "newar=ar.reshape(5,5)"
      ]
    },
    {
      "cell_type": "code",
      "execution_count": 18,
      "metadata": {
        "id": "WrcFkpGL9xlQ"
      },
      "outputs": [],
      "source": [
        "x=1\n",
        "y=1\n",
        "n=1\n",
        "l=[]\n",
        "while(x<=3):\n",
        "  while(y<=4):\n",
        "      l.append(n)\n",
        "      n+=1\n",
        "      y+=1\n",
        "      if(y>4):\n",
        "        n+=1\n",
        "  x+=1\n",
        "  y=1\n",
        "ar=np.array(l)\n",
        "newar=ar.reshape(3,4)"
      ]
    },
    {
      "cell_type": "code",
      "execution_count": 19,
      "metadata": {
        "id": "rnUSntEa9xlQ"
      },
      "outputs": [],
      "source": [
        "x=20"
      ]
    },
    {
      "cell_type": "code",
      "execution_count": 20,
      "metadata": {
        "id": "3DMBC_wp9xlQ"
      },
      "outputs": [],
      "source": [
        "y=1\n",
        "n=2\n",
        "l=[]\n",
        "while(y<=3):\n",
        "      l.append(n)\n",
        "      n+=5\n",
        "      y+=1\n",
        "ar=np.array(l)\n",
        "newar=ar.reshape(3,1)"
      ]
    },
    {
      "cell_type": "code",
      "execution_count": 21,
      "metadata": {
        "id": "pGjD4HUK9xlQ"
      },
      "outputs": [],
      "source": [
        "arr=np.array([21,22,23,24,25])"
      ]
    },
    {
      "cell_type": "code",
      "execution_count": 22,
      "metadata": {
        "id": "dqsdpxUo9xlR"
      },
      "outputs": [],
      "source": [
        "arr=np.array([[16, 17, 18, 19, 20],\n",
        "       [21, 22, 23, 24, 25]])"
      ]
    },
    {
      "cell_type": "markdown",
      "metadata": {
        "collapsed": true,
        "id": "6vtHuVJU9xlf"
      },
      "source": [
        "# Great Job!"
      ]
    }
  ],
  "metadata": {
    "kernelspec": {
      "display_name": "Python 3 (ipykernel)",
      "language": "python",
      "name": "python3"
    },
    "language_info": {
      "codemirror_mode": {
        "name": "ipython",
        "version": 3
      },
      "file_extension": ".py",
      "mimetype": "text/x-python",
      "name": "python",
      "nbconvert_exporter": "python",
      "pygments_lexer": "ipython3",
      "version": "3.9.12"
    },
    "colab": {
      "provenance": []
    }
  },
  "nbformat": 4,
  "nbformat_minor": 0
}