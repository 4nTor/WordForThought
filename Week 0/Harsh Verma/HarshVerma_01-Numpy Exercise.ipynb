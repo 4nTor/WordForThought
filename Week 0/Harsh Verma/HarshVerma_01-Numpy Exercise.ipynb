{
 "cells": [
  {
   "cell_type": "markdown",
   "metadata": {
    "id": "HfJB9JnS9xlK"
   },
   "source": [
    "# NumPy Exercises\n",
    "\n",
    "Now that we've learned about NumPy let's test your knowledge. We'll start off with a few simple tasks, and then you'll be asked some more complicated questions."
   ]
  },
  {
   "cell_type": "markdown",
   "metadata": {
    "id": "u9POEVg29xlM"
   },
   "source": [
    "#### Import NumPy as np"
   ]
  },
  {
   "cell_type": "code",
   "execution_count": null,
   "metadata": {
    "id": "yyS-PuO_9xlM"
   },
   "outputs": [],
   "source": [
    "import numpy as np"
   ]
  },
  {
   "cell_type": "markdown",
   "metadata": {
    "id": "ehlpKUPc9xlM"
   },
   "source": [
    "#### Create an array of 10 zeros"
   ]
  },
  {
   "cell_type": "code",
   "execution_count": null,
   "metadata": {
    "colab": {
     "base_uri": "https://localhost:8080/"
    },
    "executionInfo": {
     "elapsed": 715,
     "status": "ok",
     "timestamp": 1733393799003,
     "user": {
      "displayName": "imneww2",
      "userId": "07456131029225581881"
     },
     "user_tz": -330
    },
    "id": "aEQkK-Dw9xlN",
    "outputId": "4c1a3a34-62fd-40c8-8ddb-38f9d11747f6"
   },
   "outputs": [
    {
     "name": "stdout",
     "output_type": "stream",
     "text": [
      "[0. 0. 0. 0. 0. 0. 0. 0. 0. 0.]\n"
     ]
    }
   ],
   "source": [
    "arr = np.zeros((10))\n",
    "print(arr)"
   ]
  },
  {
   "cell_type": "markdown",
   "metadata": {
    "id": "6QHp05Ei9xlN"
   },
   "source": [
    "#### Create an array of 10 ones"
   ]
  },
  {
   "cell_type": "code",
   "execution_count": null,
   "metadata": {
    "colab": {
     "base_uri": "https://localhost:8080/"
    },
    "executionInfo": {
     "elapsed": 509,
     "status": "ok",
     "timestamp": 1733393790230,
     "user": {
      "displayName": "imneww2",
      "userId": "07456131029225581881"
     },
     "user_tz": -330
    },
    "id": "ebe9xrC29xlN",
    "outputId": "e53bdafb-923f-435d-f983-e31bcfc530b9",
    "scrolled": true
   },
   "outputs": [
    {
     "name": "stdout",
     "output_type": "stream",
     "text": [
      "[1. 1. 1. 1. 1. 1. 1. 1. 1. 1.]\n"
     ]
    }
   ],
   "source": [
    "arr = np.ones((10))\n",
    "print(arr)"
   ]
  },
  {
   "cell_type": "markdown",
   "metadata": {
    "id": "ziS-l3xp9xlO"
   },
   "source": [
    "#### Create an array of 10 fives"
   ]
  },
  {
   "cell_type": "code",
   "execution_count": null,
   "metadata": {
    "colab": {
     "base_uri": "https://localhost:8080/"
    },
    "executionInfo": {
     "elapsed": 524,
     "status": "ok",
     "timestamp": 1733393881772,
     "user": {
      "displayName": "imneww2",
      "userId": "07456131029225581881"
     },
     "user_tz": -330
    },
    "id": "fFC7bqLM9xlO",
    "outputId": "a9a2b747-0085-41f8-880b-cee1683eaa20"
   },
   "outputs": [
    {
     "name": "stdout",
     "output_type": "stream",
     "text": [
      "[5 5 5 5 5 5 5 5 5 5]\n"
     ]
    }
   ],
   "source": [
    "arr = np.full((10), 5)\n",
    "print(arr)"
   ]
  },
  {
   "cell_type": "markdown",
   "metadata": {
    "id": "kBugMXlC9xlO"
   },
   "source": [
    "#### Create an array of the integers from 10 to 50"
   ]
  },
  {
   "cell_type": "code",
   "execution_count": null,
   "metadata": {
    "colab": {
     "base_uri": "https://localhost:8080/"
    },
    "executionInfo": {
     "elapsed": 12,
     "status": "ok",
     "timestamp": 1733394058316,
     "user": {
      "displayName": "imneww2",
      "userId": "07456131029225581881"
     },
     "user_tz": -330
    },
    "id": "JsO6qS9R9xlO",
    "outputId": "b12c6ec4-146d-4d83-c0e1-4f907f0a80d5"
   },
   "outputs": [
    {
     "name": "stdout",
     "output_type": "stream",
     "text": [
      "[10 11 12 13 14 15 16 17 18 19 20 21 22 23 24 25 26 27 28 29 30 31 32 33\n",
      " 34 35 36 37 38 39 40 41 42 43 44 45 46 47 48 49 50]\n"
     ]
    }
   ],
   "source": [
    "arr = np.arange(10, 51)\n",
    "print(arr)"
   ]
  },
  {
   "cell_type": "markdown",
   "metadata": {
    "id": "dMw4V2L79xlO"
   },
   "source": [
    "#### Create an array of all the even integers from 10 to 50"
   ]
  },
  {
   "cell_type": "code",
   "execution_count": null,
   "metadata": {
    "colab": {
     "base_uri": "https://localhost:8080/"
    },
    "executionInfo": {
     "elapsed": 457,
     "status": "ok",
     "timestamp": 1733394084676,
     "user": {
      "displayName": "imneww2",
      "userId": "07456131029225581881"
     },
     "user_tz": -330
    },
    "id": "4lK-5SQV9xlO",
    "outputId": "49cb38d8-7013-4ea5-ba53-f6e55f4d6a6d"
   },
   "outputs": [
    {
     "name": "stdout",
     "output_type": "stream",
     "text": [
      "[10 12 14 16 18 20 22 24 26 28 30 32 34 36 38 40 42 44 46 48 50]\n"
     ]
    }
   ],
   "source": [
    "arr = np.arange(10, 51, 2)\n",
    "print(arr)"
   ]
  },
  {
   "cell_type": "markdown",
   "metadata": {
    "id": "g__F0rB39xlP"
   },
   "source": [
    "#### Create a 3x3 matrix with values ranging from 0 to 8"
   ]
  },
  {
   "cell_type": "code",
   "execution_count": null,
   "metadata": {
    "colab": {
     "base_uri": "https://localhost:8080/"
    },
    "executionInfo": {
     "elapsed": 668,
     "status": "ok",
     "timestamp": 1733394708538,
     "user": {
      "displayName": "imneww2",
      "userId": "07456131029225581881"
     },
     "user_tz": -330
    },
    "id": "MmVXCn0K9xlP",
    "outputId": "015eed5a-4a01-4cea-d2cd-cb58d5c56e88"
   },
   "outputs": [
    {
     "name": "stdout",
     "output_type": "stream",
     "text": [
      "[[0 1 2]\n",
      " [3 4 5]\n",
      " [6 7 8]]\n"
     ]
    }
   ],
   "source": [
    "arr = np.arange(9)\n",
    "matrix = arr.reshape(3,3)\n",
    "print(matrix)"
   ]
  },
  {
   "cell_type": "markdown",
   "metadata": {
    "id": "4YfT0aLo9xlP"
   },
   "source": [
    "#### Create a 3x3 identity matrix"
   ]
  },
  {
   "cell_type": "code",
   "execution_count": null,
   "metadata": {
    "id": "UHa42UpQ9xlP",
    "outputId": "ac24486e-3249-41f3-e6ca-49b88c6a2125"
   },
   "outputs": [
    {
     "data": {
      "text/plain": [
       "array([[1., 0., 0.],\n",
       "       [0., 1., 0.],\n",
       "       [0., 0., 1.]])"
      ]
     },
     "execution_count": 13,
     "metadata": {},
     "output_type": "execute_result"
    }
   ],
   "source": []
  },
  {
   "cell_type": "markdown",
   "metadata": {
    "id": "bfwDbjhI9xlP"
   },
   "source": [
    "#### Use NumPy to generate a random number between 0 and 1"
   ]
  },
  {
   "cell_type": "code",
   "execution_count": null,
   "metadata": {
    "colab": {
     "base_uri": "https://localhost:8080/"
    },
    "executionInfo": {
     "elapsed": 546,
     "status": "ok",
     "timestamp": 1733395027641,
     "user": {
      "displayName": "imneww2",
      "userId": "07456131029225581881"
     },
     "user_tz": -330
    },
    "id": "Z0OroZxW9xlP",
    "outputId": "05fee7e9-8c41-4eb5-e433-e0d290b255f1"
   },
   "outputs": [
    {
     "name": "stdout",
     "output_type": "stream",
     "text": [
      "0.18133785405673353\n"
     ]
    }
   ],
   "source": [
    "random_number = np.random.rand()\n",
    "print(random_number)"
   ]
  },
  {
   "cell_type": "markdown",
   "metadata": {
    "id": "rLW0Jjzp9xlP"
   },
   "source": [
    "#### Use NumPy to generate an array of 25 random numbers sampled from a standard normal distribution"
   ]
  },
  {
   "cell_type": "code",
   "execution_count": null,
   "metadata": {
    "colab": {
     "base_uri": "https://localhost:8080/"
    },
    "executionInfo": {
     "elapsed": 675,
     "status": "ok",
     "timestamp": 1733395280756,
     "user": {
      "displayName": "imneww2",
      "userId": "07456131029225581881"
     },
     "user_tz": -330
    },
    "id": "szluy14n9xlP",
    "outputId": "56cbb351-ccfd-441e-c974-3a5ae2475625"
   },
   "outputs": [
    {
     "name": "stdout",
     "output_type": "stream",
     "text": [
      "[-0.02951273 -0.88731059 -0.5353093  -2.13140059  0.53589658 -0.10578846\n",
      " -0.15703108 -0.54474685  1.96239299  0.39063959  1.08975137 -0.29339229\n",
      " -0.02057964 -0.49134426 -1.10450448  0.0447006  -1.63003687  2.05017747\n",
      "  0.02076955  0.62823749 -0.10470417 -0.62209306 -1.1310356  -1.13456254\n",
      " -0.93682027]\n"
     ]
    }
   ],
   "source": [
    "random_number = np.random.randn(25)\n",
    "print(random_number)"
   ]
  },
  {
   "cell_type": "markdown",
   "metadata": {
    "id": "_GhI8LYn9xlP"
   },
   "source": [
    "#### Create the following matrix:"
   ]
  },
  {
   "cell_type": "code",
   "execution_count": null,
   "metadata": {
    "colab": {
     "base_uri": "https://localhost:8080/"
    },
    "executionInfo": {
     "elapsed": 456,
     "status": "ok",
     "timestamp": 1733395342884,
     "user": {
      "displayName": "imneww2",
      "userId": "07456131029225581881"
     },
     "user_tz": -330
    },
    "id": "wS1ZBddV9xlP",
    "outputId": "c19f43e1-6121-4cf0-8f03-50e6d2c75b13"
   },
   "outputs": [
    {
     "name": "stdout",
     "output_type": "stream",
     "text": [
      "[0.01 0.02 0.03 0.04 0.05 0.06 0.07 0.08 0.09 0.1  0.11 0.12 0.13 0.14\n",
      " 0.15 0.16 0.17 0.18 0.19 0.2  0.21 0.22 0.23 0.24 0.25 0.26 0.27 0.28\n",
      " 0.29 0.3  0.31 0.32 0.33 0.34 0.35 0.36 0.37 0.38 0.39 0.4  0.41 0.42\n",
      " 0.43 0.44 0.45 0.46 0.47 0.48 0.49 0.5  0.51 0.52 0.53 0.54 0.55 0.56\n",
      " 0.57 0.58 0.59 0.6  0.61 0.62 0.63 0.64 0.65 0.66 0.67 0.68 0.69 0.7\n",
      " 0.71 0.72 0.73 0.74 0.75 0.76 0.77 0.78 0.79 0.8  0.81 0.82 0.83 0.84\n",
      " 0.85 0.86 0.87 0.88 0.89 0.9  0.91 0.92 0.93 0.94 0.95 0.96 0.97 0.98\n",
      " 0.99 1.  ]\n"
     ]
    }
   ],
   "source": [
    "arr = np.arange(0.01, 1.01, 0.01)\n",
    "print(arr)"
   ]
  },
  {
   "cell_type": "markdown",
   "metadata": {
    "id": "3OqA-QtL9xlQ"
   },
   "source": [
    "#### Create an array of 20 linearly spaced points between 0 and 1:"
   ]
  },
  {
   "cell_type": "code",
   "execution_count": null,
   "metadata": {
    "colab": {
     "base_uri": "https://localhost:8080/"
    },
    "executionInfo": {
     "elapsed": 595,
     "status": "ok",
     "timestamp": 1733395563788,
     "user": {
      "displayName": "imneww2",
      "userId": "07456131029225581881"
     },
     "user_tz": -330
    },
    "id": "FNXTugQ29xlQ",
    "outputId": "f5a3a72d-1d7c-409b-dca3-cc2d39278897"
   },
   "outputs": [
    {
     "name": "stdout",
     "output_type": "stream",
     "text": [
      "[0.         0.05263158 0.10526316 0.15789474 0.21052632 0.26315789\n",
      " 0.31578947 0.36842105 0.42105263 0.47368421 0.52631579 0.57894737\n",
      " 0.63157895 0.68421053 0.73684211 0.78947368 0.84210526 0.89473684\n",
      " 0.94736842 1.        ]\n"
     ]
    }
   ],
   "source": [
    "linear_space = np.arange(0, 1.01, 1/19)\n",
    "print(linear_space)"
   ]
  },
  {
   "cell_type": "markdown",
   "metadata": {
    "id": "elx0EaxE9xlQ"
   },
   "source": [
    "## Numpy Indexing and Selection\n",
    "\n",
    "Now you will be given a few matrices, and be asked to replicate the resulting matrix outputs:"
   ]
  },
  {
   "cell_type": "markdown",
   "metadata": {
    "id": "2Tbm9kVf9xlQ"
   },
   "source": []
  },
  {
   "cell_type": "code",
   "execution_count": null,
   "metadata": {
    "colab": {
     "base_uri": "https://localhost:8080/"
    },
    "executionInfo": {
     "elapsed": 4,
     "status": "ok",
     "timestamp": 1733398595232,
     "user": {
      "displayName": "imneww2",
      "userId": "07456131029225581881"
     },
     "user_tz": -330
    },
    "id": "Ft8P8e249xlQ",
    "outputId": "93eeee71-5199-401c-b8d0-d6fbd6802c34"
   },
   "outputs": [
    {
     "name": "stdout",
     "output_type": "stream",
     "text": [
      "[[ 1  2  3  4  5]\n",
      " [ 6  7  8  9 10]\n",
      " [11 12 13 14 15]\n",
      " [16 17 18 19 20]\n",
      " [21 22 23 24 25]]\n"
     ]
    }
   ],
   "source": [
    "arr = np.arange(1, 26)\n",
    "matrix = arr.reshape(5,5)\n",
    "print(matrix)"
   ]
  },
  {
   "cell_type": "code",
   "execution_count": null,
   "metadata": {
    "colab": {
     "base_uri": "https://localhost:8080/"
    },
    "executionInfo": {
     "elapsed": 3,
     "status": "ok",
     "timestamp": 1733398929474,
     "user": {
      "displayName": "imneww2",
      "userId": "07456131029225581881"
     },
     "user_tz": -330
    },
    "id": "WrcFkpGL9xlQ",
    "outputId": "7f4f7e81-3070-4ab4-8d69-0c1ea4826233"
   },
   "outputs": [
    {
     "name": "stdout",
     "output_type": "stream",
     "text": [
      "[[12 13 14 15]\n",
      " [17 18 19 20]\n",
      " [22 23 24 25]]\n"
     ]
    }
   ],
   "source": [
    "arr1 = np.arange(12,16)\n",
    "arr2 = np.arange(17,21)\n",
    "arr3 = np.arange(22,26)\n",
    "matrix = np.array([arr1, arr2, arr3])\n",
    "print(matrix)"
   ]
  },
  {
   "cell_type": "code",
   "execution_count": null,
   "metadata": {
    "colab": {
     "base_uri": "https://localhost:8080/"
    },
    "executionInfo": {
     "elapsed": 641,
     "status": "ok",
     "timestamp": 1733398987572,
     "user": {
      "displayName": "imneww2",
      "userId": "07456131029225581881"
     },
     "user_tz": -330
    },
    "id": "rnUSntEa9xlQ",
    "outputId": "8e54e376-af23-4702-dbaa-b5e2a29c8349"
   },
   "outputs": [
    {
     "name": "stdout",
     "output_type": "stream",
     "text": [
      "20\n"
     ]
    }
   ],
   "source": [
    "arr = np.arange(21)\n",
    "print(arr[-1])"
   ]
  },
  {
   "cell_type": "code",
   "execution_count": null,
   "metadata": {
    "colab": {
     "base_uri": "https://localhost:8080/"
    },
    "executionInfo": {
     "elapsed": 3,
     "status": "ok",
     "timestamp": 1733399047235,
     "user": {
      "displayName": "imneww2",
      "userId": "07456131029225581881"
     },
     "user_tz": -330
    },
    "id": "3DMBC_wp9xlQ",
    "outputId": "50bc8d75-827f-4b46-b21c-2160aabb9894"
   },
   "outputs": [
    {
     "name": "stdout",
     "output_type": "stream",
     "text": [
      "[[ 2]\n",
      " [ 7]\n",
      " [12]]\n"
     ]
    }
   ],
   "source": [
    "arr = np.arange(2,13, 5)\n",
    "matrix = arr.reshape(3,1)\n",
    "print(matrix)"
   ]
  },
  {
   "cell_type": "code",
   "execution_count": null,
   "metadata": {
    "colab": {
     "base_uri": "https://localhost:8080/"
    },
    "executionInfo": {
     "elapsed": 5,
     "status": "ok",
     "timestamp": 1733399083978,
     "user": {
      "displayName": "imneww2",
      "userId": "07456131029225581881"
     },
     "user_tz": -330
    },
    "id": "pGjD4HUK9xlQ",
    "outputId": "2897225d-5b2f-4047-cb7c-e1dfdf5e7640"
   },
   "outputs": [
    {
     "name": "stdout",
     "output_type": "stream",
     "text": [
      "[21 22 23 24 25]\n"
     ]
    }
   ],
   "source": [
    "arr = np.arange(21, 26)\n",
    "print(arr)"
   ]
  },
  {
   "cell_type": "code",
   "execution_count": null,
   "metadata": {
    "id": "dqsdpxUo9xlR"
   },
   "outputs": [],
   "source": [
    "arr = np.arange(16, 26)\n",
    "matrix = arr.reshape(2, 5)\n",
    "print(matrix)\n"
   ]
  },
  {
   "cell_type": "markdown",
   "metadata": {
    "collapsed": true,
    "id": "6vtHuVJU9xlf"
   },
   "source": [
    "# Great Job!"
   ]
  }
 ],
 "metadata": {
  "colab": {
   "provenance": [
    {
     "file_id": "1PacBskAxI7FPP4LIyB_3MysbL8ArUHsV",
     "timestamp": 1733389516743
    },
    {
     "file_id": "19ZajGBzqADvFnQ0kzbkad_udXeAh26pj",
     "timestamp": 1731497620277
    }
   ]
  },
  "kernelspec": {
   "display_name": "Python 3 (ipykernel)",
   "language": "python",
   "name": "python3"
  },
  "language_info": {
   "codemirror_mode": {
    "name": "ipython",
    "version": 3
   },
   "file_extension": ".py",
   "mimetype": "text/x-python",
   "name": "python",
   "nbconvert_exporter": "python",
   "pygments_lexer": "ipython3",
   "version": "3.9.12"
  }
 },
 "nbformat": 4,
 "nbformat_minor": 0
}
